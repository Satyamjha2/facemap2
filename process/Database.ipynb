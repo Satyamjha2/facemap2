{
 "cells": [
  {
   "cell_type": "code",
   "execution_count": null,
   "id": "e1469d9c",
   "metadata": {},
   "outputs": [],
   "source": []
  },
  {
   "cell_type": "code",
   "execution_count": null,
   "id": "191400ff",
   "metadata": {},
   "outputs": [],
   "source": []
  },
  {
   "cell_type": "code",
   "execution_count": 33,
   "id": "938be58a",
   "metadata": {},
   "outputs": [],
   "source": [
    "import numpy as np\n",
    "import pandas as pd\n",
    "import cv2\n",
    "import mediapipe as mp\n",
    "import face_recognition_models\n",
    "import dlib\n",
    "import os\n",
    "from mediapipe.python.solutions.drawing_utils import _normalized_to_pixel_coordinates"
   ]
  },
  {
   "cell_type": "code",
   "execution_count": 34,
   "id": "57223eda",
   "metadata": {},
   "outputs": [],
   "source": [
    "face_recognition_model = face_recognition_models.face_recognition_model_location()\n",
    "face_encoder = dlib.face_recognition_model_v1(face_recognition_model)"
   ]
  },
  {
   "cell_type": "code",
   "execution_count": 36,
   "id": "f3c772a4",
   "metadata": {},
   "outputs": [],
   "source": [
    "mp_drawing = mp.solutions.drawing_utils\n",
    "mp_face_detect = mp.solutions.face_detection\n",
    "face_detect = mp_face_detect.FaceDetection(min_detection_confidence=0.7)\n",
    "\n",
    "mp_face_mesh = mp.solutions.face_mesh\n",
    "face_mesh = mp_face_mesh.FaceMesh(static_image_mode=True, max_num_faces=1,min_detection_confidence=0.5)"
   ]
  },
  {
   "cell_type": "code",
   "execution_count": null,
   "id": "2f6b80a3",
   "metadata": {},
   "outputs": [],
   "source": []
  },
  {
   "cell_type": "code",
   "execution_count": null,
   "id": "169aadc1",
   "metadata": {},
   "outputs": [],
   "source": []
  },
  {
   "cell_type": "code",
   "execution_count": 37,
   "id": "e727447d",
   "metadata": {},
   "outputs": [],
   "source": [
    "def raw_landmark(filepath,file):\n",
    "    face_image = cv2.imread(filepath)\n",
    "    #print(np.max(face_image))\n",
    "    width,height=face_image.shape[:-1]\n",
    "    image_input = cv2.cvtColor(face_image, cv2.COLOR_BGR2RGB)\n",
    "    results = face_mesh_images.process(image_input)\n",
    "    if results.multi_face_landmarks:\n",
    "        for i,face_landmarks in enumerate(results.multi_face_landmarks): \n",
    "            if i==0:\n",
    "                raw_landmark_set = []\n",
    "                for index in landmark_points_5:\n",
    "                    x = int(face_landmarks.landmark[index].x * width)\n",
    "                    y = int(face_landmarks.landmark[index].y * height)\n",
    "                    raw_landmark_set.append((x, y))\n",
    "                #encodings=face_encoder.compute_face_descriptor(face_image, raw_landmark_set, num_jitters=1)\n",
    "                raw_landmark_set=np.array(raw_landmark_set)\n",
    "                row =pd.DataFrame({\"filename\":file,\"landmarks\": [raw_landmark_set]})\n",
    "        return row"
   ]
  },
  {
   "cell_type": "code",
   "execution_count": 38,
   "id": "3bf252fd",
   "metadata": {},
   "outputs": [],
   "source": [
    "#p=\"E:\\\\Pix\\\\Munmun_wedding\"\n",
    "#p=\"C:\\\\Users\\\\jhash\\\\OneDrive - City University of New York\\\\GenArt\\\\ML\\\\Mandiberg\\\\images forward\"\n",
    "p=\"/Users/michaelmandiberg/Dropbox/facemap_dropbox/images forward\""
   ]
  },
  {
   "cell_type": "code",
   "execution_count": 39,
   "id": "c0e70ab3",
   "metadata": {},
   "outputs": [
    {
     "name": "stdout",
     "output_type": "stream",
     "text": [
      "1 / 258\n"
     ]
    },
    {
     "ename": "NameError",
     "evalue": "name 'face_mesh_images' is not defined",
     "output_type": "error",
     "traceback": [
      "\u001b[0;31m---------------------------------------------------------------------------\u001b[0m",
      "\u001b[0;31mNameError\u001b[0m                                 Traceback (most recent call last)",
      "\u001b[0;32m/var/folders/jf/dgn0j6zj4659c4x2xfqh84xh0000gn/T/ipykernel_48674/511478911.py\u001b[0m in \u001b[0;36m<module>\u001b[0;34m\u001b[0m\n\u001b[1;32m      9\u001b[0m         \u001b[0mprint\u001b[0m\u001b[0;34m(\u001b[0m\u001b[0mcurr\u001b[0m\u001b[0;34m,\u001b[0m\u001b[0;34m\"/\"\u001b[0m\u001b[0;34m,\u001b[0m\u001b[0mtotal\u001b[0m\u001b[0;34m)\u001b[0m\u001b[0;34m\u001b[0m\u001b[0;34m\u001b[0m\u001b[0m\n\u001b[1;32m     10\u001b[0m         \u001b[0mfilepath\u001b[0m\u001b[0;34m=\u001b[0m\u001b[0mfilepath\u001b[0m\u001b[0;34m.\u001b[0m\u001b[0mreplace\u001b[0m\u001b[0;34m(\u001b[0m\u001b[0;34m'\\\\'\u001b[0m \u001b[0;34m,\u001b[0m \u001b[0;34m'/'\u001b[0m\u001b[0;34m)\u001b[0m\u001b[0;34m\u001b[0m\u001b[0;34m\u001b[0m\u001b[0m\n\u001b[0;32m---> 11\u001b[0;31m         \u001b[0mdata\u001b[0m\u001b[0;34m=\u001b[0m\u001b[0mraw_landmark\u001b[0m\u001b[0;34m(\u001b[0m\u001b[0mfilepath\u001b[0m\u001b[0;34m,\u001b[0m\u001b[0mfile\u001b[0m\u001b[0;34m)\u001b[0m\u001b[0;34m\u001b[0m\u001b[0;34m\u001b[0m\u001b[0m\n\u001b[0m\u001b[1;32m     12\u001b[0m         \u001b[0mimage_data\u001b[0m \u001b[0;34m=\u001b[0m \u001b[0mpd\u001b[0m\u001b[0;34m.\u001b[0m\u001b[0mconcat\u001b[0m\u001b[0;34m(\u001b[0m\u001b[0;34m[\u001b[0m\u001b[0mimage_data\u001b[0m\u001b[0;34m,\u001b[0m\u001b[0mdata\u001b[0m\u001b[0;34m]\u001b[0m\u001b[0;34m,\u001b[0m\u001b[0mignore_index\u001b[0m\u001b[0;34m=\u001b[0m\u001b[0;32mTrue\u001b[0m\u001b[0;34m)\u001b[0m\u001b[0;34m\u001b[0m\u001b[0;34m\u001b[0m\u001b[0m\n\u001b[1;32m     13\u001b[0m \u001b[0mprint\u001b[0m\u001b[0;34m(\u001b[0m\u001b[0;34m\"Done\"\u001b[0m\u001b[0;34m)\u001b[0m\u001b[0;34m\u001b[0m\u001b[0;34m\u001b[0m\u001b[0m\n",
      "\u001b[0;32m/var/folders/jf/dgn0j6zj4659c4x2xfqh84xh0000gn/T/ipykernel_48674/431144847.py\u001b[0m in \u001b[0;36mraw_landmark\u001b[0;34m(filepath, file)\u001b[0m\n\u001b[1;32m      4\u001b[0m     \u001b[0mwidth\u001b[0m\u001b[0;34m,\u001b[0m\u001b[0mheight\u001b[0m\u001b[0;34m=\u001b[0m\u001b[0mface_image\u001b[0m\u001b[0;34m.\u001b[0m\u001b[0mshape\u001b[0m\u001b[0;34m[\u001b[0m\u001b[0;34m:\u001b[0m\u001b[0;34m-\u001b[0m\u001b[0;36m1\u001b[0m\u001b[0;34m]\u001b[0m\u001b[0;34m\u001b[0m\u001b[0;34m\u001b[0m\u001b[0m\n\u001b[1;32m      5\u001b[0m     \u001b[0mimage_input\u001b[0m \u001b[0;34m=\u001b[0m \u001b[0mcv2\u001b[0m\u001b[0;34m.\u001b[0m\u001b[0mcvtColor\u001b[0m\u001b[0;34m(\u001b[0m\u001b[0mface_image\u001b[0m\u001b[0;34m,\u001b[0m \u001b[0mcv2\u001b[0m\u001b[0;34m.\u001b[0m\u001b[0mCOLOR_BGR2RGB\u001b[0m\u001b[0;34m)\u001b[0m\u001b[0;34m\u001b[0m\u001b[0;34m\u001b[0m\u001b[0m\n\u001b[0;32m----> 6\u001b[0;31m     \u001b[0mresults\u001b[0m \u001b[0;34m=\u001b[0m \u001b[0mface_mesh_images\u001b[0m\u001b[0;34m.\u001b[0m\u001b[0mprocess\u001b[0m\u001b[0;34m(\u001b[0m\u001b[0mimage_input\u001b[0m\u001b[0;34m)\u001b[0m\u001b[0;34m\u001b[0m\u001b[0;34m\u001b[0m\u001b[0m\n\u001b[0m\u001b[1;32m      7\u001b[0m     \u001b[0;32mif\u001b[0m \u001b[0mresults\u001b[0m\u001b[0;34m.\u001b[0m\u001b[0mmulti_face_landmarks\u001b[0m\u001b[0;34m:\u001b[0m\u001b[0;34m\u001b[0m\u001b[0;34m\u001b[0m\u001b[0m\n\u001b[1;32m      8\u001b[0m         \u001b[0;32mfor\u001b[0m \u001b[0mi\u001b[0m\u001b[0;34m,\u001b[0m\u001b[0mface_landmarks\u001b[0m \u001b[0;32min\u001b[0m \u001b[0menumerate\u001b[0m\u001b[0;34m(\u001b[0m\u001b[0mresults\u001b[0m\u001b[0;34m.\u001b[0m\u001b[0mmulti_face_landmarks\u001b[0m\u001b[0;34m)\u001b[0m\u001b[0;34m:\u001b[0m\u001b[0;34m\u001b[0m\u001b[0;34m\u001b[0m\u001b[0m\n",
      "\u001b[0;31mNameError\u001b[0m: name 'face_mesh_images' is not defined"
     ]
    }
   ],
   "source": [
    "curr=0\n",
    "image_data=pd.DataFrame()\n",
    "for subdir, dirs, files in os.walk(p):\n",
    "    total = len(files)\n",
    "    for file in files:\n",
    "        curr+=1\n",
    "        filepath = os.path.join(subdir, file)\n",
    "        #print(\"File: %s\" % filepath)\n",
    "        print(curr,\"/\",total)\n",
    "        filepath=filepath.replace('\\\\' , '/')\n",
    "        data=raw_landmark(filepath,file)\n",
    "        image_data = pd.concat([image_data,data],ignore_index=True)\n",
    "print(\"Done\")"
   ]
  },
  {
   "cell_type": "code",
   "execution_count": 25,
   "id": "68ecd7ce",
   "metadata": {},
   "outputs": [
    {
     "name": "stdout",
     "output_type": "stream",
     "text": [
      "Empty DataFrame\n",
      "Columns: []\n",
      "Index: []\n"
     ]
    }
   ],
   "source": [
    "print(image_data.tail())"
   ]
  },
  {
   "cell_type": "code",
   "execution_count": 28,
   "id": "e5fa1f29",
   "metadata": {},
   "outputs": [
    {
     "ename": "NameError",
     "evalue": "name 'face_mesh_images' is not defined",
     "output_type": "error",
     "traceback": [
      "\u001b[0;31m---------------------------------------------------------------------------\u001b[0m",
      "\u001b[0;31mNameError\u001b[0m                                 Traceback (most recent call last)",
      "\u001b[0;32m/var/folders/jf/dgn0j6zj4659c4x2xfqh84xh0000gn/T/ipykernel_48674/3695063524.py\u001b[0m in \u001b[0;36m<module>\u001b[0;34m\u001b[0m\n\u001b[1;32m      4\u001b[0m \u001b[0mwidth\u001b[0m\u001b[0;34m,\u001b[0m\u001b[0mheight\u001b[0m\u001b[0;34m=\u001b[0m\u001b[0mface_image\u001b[0m\u001b[0;34m.\u001b[0m\u001b[0mshape\u001b[0m\u001b[0;34m[\u001b[0m\u001b[0;34m:\u001b[0m\u001b[0;34m-\u001b[0m\u001b[0;36m1\u001b[0m\u001b[0;34m]\u001b[0m\u001b[0;34m\u001b[0m\u001b[0;34m\u001b[0m\u001b[0m\n\u001b[1;32m      5\u001b[0m \u001b[0mimage_input\u001b[0m \u001b[0;34m=\u001b[0m \u001b[0mcv2\u001b[0m\u001b[0;34m.\u001b[0m\u001b[0mcvtColor\u001b[0m\u001b[0;34m(\u001b[0m\u001b[0mface_image\u001b[0m\u001b[0;34m,\u001b[0m \u001b[0mcv2\u001b[0m\u001b[0;34m.\u001b[0m\u001b[0mCOLOR_BGR2RGB\u001b[0m\u001b[0;34m)\u001b[0m\u001b[0;34m\u001b[0m\u001b[0;34m\u001b[0m\u001b[0m\n\u001b[0;32m----> 6\u001b[0;31m \u001b[0mresults\u001b[0m \u001b[0;34m=\u001b[0m \u001b[0mface_mesh_images\u001b[0m\u001b[0;34m.\u001b[0m\u001b[0mprocess\u001b[0m\u001b[0;34m(\u001b[0m\u001b[0mimage_input\u001b[0m\u001b[0;34m)\u001b[0m\u001b[0;34m\u001b[0m\u001b[0;34m\u001b[0m\u001b[0m\n\u001b[0m\u001b[1;32m      7\u001b[0m \u001b[0;32mif\u001b[0m \u001b[0mresults\u001b[0m\u001b[0;34m.\u001b[0m\u001b[0mmulti_face_landmarks\u001b[0m\u001b[0;34m:\u001b[0m\u001b[0;34m\u001b[0m\u001b[0;34m\u001b[0m\u001b[0m\n\u001b[1;32m      8\u001b[0m     \u001b[0;32mfor\u001b[0m \u001b[0mi\u001b[0m\u001b[0;34m,\u001b[0m\u001b[0mface_landmarks\u001b[0m \u001b[0;32min\u001b[0m \u001b[0menumerate\u001b[0m\u001b[0;34m(\u001b[0m\u001b[0mresults\u001b[0m\u001b[0;34m.\u001b[0m\u001b[0mmulti_face_landmarks\u001b[0m\u001b[0;34m)\u001b[0m\u001b[0;34m:\u001b[0m\u001b[0;34m\u001b[0m\u001b[0;34m\u001b[0m\u001b[0m\n",
      "\u001b[0;31mNameError\u001b[0m: name 'face_mesh_images' is not defined"
     ]
    }
   ],
   "source": [
    "filepath=\"/Users/michaelmandiberg/Dropbox/facemap_dropbox/images forward/faceimg_crop1_X-20toX1_Y-4toY4_Z-3toZ3_maxResize0.5_ct261_1.jpg\"\n",
    "filepath=filepath.replace('\\\\' , '/')\n",
    "face_image = cv2.imread(filepath)\n",
    "width,height=face_image.shape[:-1]\n",
    "image_input = cv2.cvtColor(face_image, cv2.COLOR_BGR2RGB)\n",
    "results = face_mesh_images.process(image_input)\n",
    "if results.multi_face_landmarks:\n",
    "    for i,face_landmarks in enumerate(results.multi_face_landmarks): \n",
    "        if i==0:\n",
    "            raw_landmark_set = []\n",
    "            for index in landmark_points_5:\n",
    "                x = int(face_landmarks.landmark[index].x * width)\n",
    "                y = int(face_landmarks.landmark[index].y * height)\n",
    "                landmark_point=dlib.point([x,y])\n",
    "                raw_landmark_set.append(landmark_point)\n",
    "                #display(landmark_point)\n",
    "            all_points=dlib.points(raw_landmark_set)\n",
    "            display(all_points)\n",
    "            #landmark_point=dlib.point(raw_landmark_set)\n",
    "            #encodings=face_encoder.compute_face_descriptor(face_image, raw_landmark_set, num_jitters=1)\n"
   ]
  },
  {
   "cell_type": "code",
   "execution_count": 29,
   "id": "3c26d7a8",
   "metadata": {},
   "outputs": [],
   "source": [
    "def landmark_pt_list(mesh_results,width,height):\n",
    "    landmark_points_68 = [162,234,93,58,172,136,149,148,152,377,378,365,397,288,323,454,389,71,63,105,66,107,336,\n",
    "                  296,334,293,301,168,197,5,4,75,97,2,326,305,33,160,158,133,153,144,362,385,387,263,373,\n",
    "                  380,61,39,37,0,267,269,291,405,314,17,84,181,78,82,13,312,308,317,14,87]\n",
    "    \n",
    "    landmark_points_5_1 = [ 2, #bottom of nose tip\n",
    "                     362, #left eye towards centre\n",
    "                     263, #left eye away from centre\n",
    "                     33,  #right eye away from centre\n",
    "                     133 #right eye towards centre \n",
    "                    ]\n",
    "    landmark_points_5_2 = [ 2, #bottom of nose tip\n",
    "                     263, #left eye away from centre\n",
    "                     362, #left eye towards centre\n",
    "                     133, #right eye towards centre \n",
    "                     33  #right eye away from centre\n",
    "                    ]\n",
    "\n",
    "    if mesh_results.multi_face_landmarks:\n",
    "        for i,face_landmarks in enumerate(mesh_results.multi_face_landmarks): \n",
    "            if i==0:\n",
    "                raw_landmark_set = []\n",
    "                for index in landmark_points_5_1:\n",
    "                    x = int(face_landmarks.landmark[index].x * width)\n",
    "                    y = int(face_landmarks.landmark[index].y * height)\n",
    "                    landmark_point=dlib.point([x,y])\n",
    "                    raw_landmark_set.append(landmark_point)\n",
    "                    #display(landmark_point)\n",
    "                all_points=dlib.points(raw_landmark_set)\n",
    "#         return dlib.points([{\n",
    "#             \"nose_tip\": [raw_landmark_set[0]],\n",
    "#             \"left_eye\": raw_landmark_set[1:3],\n",
    "#             \"right_eye\": raw_landmark_set[3:],\n",
    "#         }])\n",
    "        return all_points\n",
    "\n",
    "def bounding_rect(detection_results,width,height):\n",
    "    if detection_results.detections:\n",
    "        for i,detection in enumerate(detection_results.detections):\n",
    "            if i==0:\n",
    "                # bbox data\n",
    "                bbox = detection.location_data.relative_bounding_box\n",
    "                xy_min = _normalized_to_pixel_coordinates(bbox.xmin, bbox.ymin, height,width)\n",
    "                xy_max = _normalized_to_pixel_coordinates(bbox.xmin + bbox.width, bbox.ymin + bbox.height,height,width)\n",
    "                if xy_min is None or xy_max is None:\n",
    "                    #print(\"face out of frame\")\n",
    "                    return\n",
    "                else:\n",
    "                    xmin,ymin =xy_min\n",
    "                    xmax,ymax = xy_max\n",
    "                    #bbox_points = { \"xmin\" : xmin,\"ymin\" : ymin,\"xmax\" : xmax,\"ymax\" : ymax}\n",
    "                    rectangle= dlib.rectangle(left=xmin, top=ymax, right=xmax, bottom=ymin)\n",
    "                    return rectangle"
   ]
  },
  {
   "cell_type": "code",
   "execution_count": 30,
   "id": "a3e35c5c",
   "metadata": {},
   "outputs": [
    {
     "ename": "TypeError",
     "evalue": "landmark_pt_list() missing 2 required positional arguments: 'width' and 'height'",
     "output_type": "error",
     "traceback": [
      "\u001b[0;31m---------------------------------------------------------------------------\u001b[0m",
      "\u001b[0;31mTypeError\u001b[0m                                 Traceback (most recent call last)",
      "\u001b[0;32m/var/folders/jf/dgn0j6zj4659c4x2xfqh84xh0000gn/T/ipykernel_48674/3345218366.py\u001b[0m in \u001b[0;36m<module>\u001b[0;34m\u001b[0m\n\u001b[1;32m      8\u001b[0m \u001b[0mmesh_results\u001b[0m \u001b[0;34m=\u001b[0m \u001b[0mface_mesh\u001b[0m\u001b[0;34m.\u001b[0m\u001b[0mprocess\u001b[0m\u001b[0;34m(\u001b[0m\u001b[0mimage_input\u001b[0m\u001b[0;34m)\u001b[0m\u001b[0;34m\u001b[0m\u001b[0;34m\u001b[0m\u001b[0m\n\u001b[1;32m      9\u001b[0m \u001b[0;34m\u001b[0m\u001b[0m\n\u001b[0;32m---> 10\u001b[0;31m \u001b[0mall_points\u001b[0m\u001b[0;34m=\u001b[0m  \u001b[0mlandmark_pt_list\u001b[0m\u001b[0;34m(\u001b[0m\u001b[0mmesh_results\u001b[0m\u001b[0;34m)\u001b[0m\u001b[0;34m\u001b[0m\u001b[0;34m\u001b[0m\u001b[0m\n\u001b[0m\u001b[1;32m     11\u001b[0m \u001b[0mb_box\u001b[0m\u001b[0;34m=\u001b[0m\u001b[0mbounding_rect\u001b[0m\u001b[0;34m(\u001b[0m\u001b[0mdetection_results\u001b[0m\u001b[0;34m)\u001b[0m\u001b[0;34m\u001b[0m\u001b[0;34m\u001b[0m\u001b[0m\n\u001b[1;32m     12\u001b[0m \u001b[0mraw_landmark_set\u001b[0m\u001b[0;34m=\u001b[0m\u001b[0mdlib\u001b[0m\u001b[0;34m.\u001b[0m\u001b[0mfull_object_detection\u001b[0m\u001b[0;34m(\u001b[0m\u001b[0mb_box\u001b[0m\u001b[0;34m,\u001b[0m\u001b[0mall_points\u001b[0m\u001b[0;34m)\u001b[0m\u001b[0;34m\u001b[0m\u001b[0;34m\u001b[0m\u001b[0m\n",
      "\u001b[0;31mTypeError\u001b[0m: landmark_pt_list() missing 2 required positional arguments: 'width' and 'height'"
     ]
    }
   ],
   "source": [
    "# filepath=\"C:\\\\Users\\\\jhash\\\\Pictures\\\\images forward\\\\faceimg_crop1_X-20toX1_Y-4toY4_Z-3toZ3_maxResize0.5_ct261_1.jpg\"\n",
    "filepath=\"/Users/michaelmandiberg/Documents/GitHub/facemap/DSC_0492.jpg\"\n",
    "filepath=filepath.replace('\\\\' , '/')\n",
    "face_image = cv2.imread(filepath)\n",
    "width,height=face_image.shape[:-1]\n",
    "image_input = cv2.cvtColor(face_image, cv2.COLOR_BGR2RGB)\n",
    "detection_results = face_detect.process(image_input)\n",
    "mesh_results = face_mesh.process(image_input)\n",
    "\n",
    "all_points=  landmark_pt_list(mesh_results)  \n",
    "b_box=bounding_rect(detection_results)\n",
    "raw_landmark_set=dlib.full_object_detection(b_box,all_points)\n",
    "display(all_points)\n",
    "display(b_box)\n",
    "encodings=face_encoder.compute_face_descriptor(face_image, raw_landmark_set, num_jitters=1)\n"
   ]
  },
  {
   "cell_type": "code",
   "execution_count": 31,
   "id": "204f3d42",
   "metadata": {},
   "outputs": [],
   "source": [
    "def ret_encoding(filepath,num_jitters=1):\n",
    "    face_image = cv2.imread(filepath)\n",
    "    width,height=face_image.shape[:-1]\n",
    "    image_input = cv2.cvtColor(face_image, cv2.COLOR_BGR2RGB)\n",
    "    detection_results = face_detect.process(image_input)\n",
    "    mesh_results = face_mesh.process(image_input)\n",
    "    \n",
    "    all_points=  landmark_pt_list(mesh_results,width,height)  \n",
    "    b_box=bounding_rect(detection_results,width,height)\n",
    "    if (all_points is None) or (b_box is None):\n",
    "        return \n",
    "    raw_landmark_set=dlib.full_object_detection(b_box,all_points)\n",
    "    #display(all_points)\n",
    "    #display(b_box)\n",
    "    encodings=face_encoder.compute_face_descriptor(face_image, raw_landmark_set, num_jitters)\n",
    "\n",
    "    return encodings"
   ]
  },
  {
   "cell_type": "code",
   "execution_count": 32,
   "id": "8e34027a",
   "metadata": {},
   "outputs": [
    {
     "name": "stderr",
     "output_type": "stream",
     "text": [
      "[ WARN:0@443.504] global /Users/runner/work/opencv-python/opencv-python/opencv/modules/imgcodecs/src/loadsave.cpp (239) findDecoder imread_('Test/test11.jpg'): can't open/read file: check file path/integrity\n"
     ]
    },
    {
     "ename": "AttributeError",
     "evalue": "'NoneType' object has no attribute 'shape'",
     "output_type": "error",
     "traceback": [
      "\u001b[0;31m---------------------------------------------------------------------------\u001b[0m",
      "\u001b[0;31mAttributeError\u001b[0m                            Traceback (most recent call last)",
      "\u001b[0;32m/var/folders/jf/dgn0j6zj4659c4x2xfqh84xh0000gn/T/ipykernel_48674/380340230.py\u001b[0m in \u001b[0;36m<module>\u001b[0;34m\u001b[0m\n\u001b[1;32m      2\u001b[0m \u001b[0;31m#file1=\"E:\\\\Pix\\\\Munmun_wedding\\\\DSC_0524.jpg\".replace('\\\\' , '/')\u001b[0m\u001b[0;34m\u001b[0m\u001b[0;34m\u001b[0m\u001b[0;34m\u001b[0m\u001b[0m\n\u001b[1;32m      3\u001b[0m \u001b[0;34m\u001b[0m\u001b[0m\n\u001b[0;32m----> 4\u001b[0;31m \u001b[0menc1\u001b[0m\u001b[0;34m=\u001b[0m\u001b[0;34m(\u001b[0m\u001b[0mret_encoding\u001b[0m\u001b[0;34m(\u001b[0m\u001b[0mfile1\u001b[0m\u001b[0;34m)\u001b[0m\u001b[0;34m)\u001b[0m\u001b[0;34m\u001b[0m\u001b[0;34m\u001b[0m\u001b[0m\n\u001b[0m\u001b[1;32m      5\u001b[0m \u001b[0mdist\u001b[0m\u001b[0;34m=\u001b[0m\u001b[0;34m[\u001b[0m\u001b[0;34m]\u001b[0m\u001b[0;34m\u001b[0m\u001b[0;34m\u001b[0m\u001b[0m\n\u001b[1;32m      6\u001b[0m \u001b[0;32mfor\u001b[0m \u001b[0mi\u001b[0m \u001b[0;32min\u001b[0m \u001b[0mrange\u001b[0m\u001b[0;34m(\u001b[0m\u001b[0;36m6\u001b[0m\u001b[0;34m,\u001b[0m\u001b[0;36m14\u001b[0m\u001b[0;34m)\u001b[0m\u001b[0;34m:\u001b[0m\u001b[0;34m\u001b[0m\u001b[0;34m\u001b[0m\u001b[0m\n",
      "\u001b[0;32m/var/folders/jf/dgn0j6zj4659c4x2xfqh84xh0000gn/T/ipykernel_48674/2176041089.py\u001b[0m in \u001b[0;36mret_encoding\u001b[0;34m(filepath, num_jitters)\u001b[0m\n\u001b[1;32m      1\u001b[0m \u001b[0;32mdef\u001b[0m \u001b[0mret_encoding\u001b[0m\u001b[0;34m(\u001b[0m\u001b[0mfilepath\u001b[0m\u001b[0;34m,\u001b[0m\u001b[0mnum_jitters\u001b[0m\u001b[0;34m=\u001b[0m\u001b[0;36m1\u001b[0m\u001b[0;34m)\u001b[0m\u001b[0;34m:\u001b[0m\u001b[0;34m\u001b[0m\u001b[0;34m\u001b[0m\u001b[0m\n\u001b[1;32m      2\u001b[0m     \u001b[0mface_image\u001b[0m \u001b[0;34m=\u001b[0m \u001b[0mcv2\u001b[0m\u001b[0;34m.\u001b[0m\u001b[0mimread\u001b[0m\u001b[0;34m(\u001b[0m\u001b[0mfilepath\u001b[0m\u001b[0;34m)\u001b[0m\u001b[0;34m\u001b[0m\u001b[0;34m\u001b[0m\u001b[0m\n\u001b[0;32m----> 3\u001b[0;31m     \u001b[0mwidth\u001b[0m\u001b[0;34m,\u001b[0m\u001b[0mheight\u001b[0m\u001b[0;34m=\u001b[0m\u001b[0mface_image\u001b[0m\u001b[0;34m.\u001b[0m\u001b[0mshape\u001b[0m\u001b[0;34m[\u001b[0m\u001b[0;34m:\u001b[0m\u001b[0;34m-\u001b[0m\u001b[0;36m1\u001b[0m\u001b[0;34m]\u001b[0m\u001b[0;34m\u001b[0m\u001b[0;34m\u001b[0m\u001b[0m\n\u001b[0m\u001b[1;32m      4\u001b[0m     \u001b[0mimage_input\u001b[0m \u001b[0;34m=\u001b[0m \u001b[0mcv2\u001b[0m\u001b[0;34m.\u001b[0m\u001b[0mcvtColor\u001b[0m\u001b[0;34m(\u001b[0m\u001b[0mface_image\u001b[0m\u001b[0;34m,\u001b[0m \u001b[0mcv2\u001b[0m\u001b[0;34m.\u001b[0m\u001b[0mCOLOR_BGR2RGB\u001b[0m\u001b[0;34m)\u001b[0m\u001b[0;34m\u001b[0m\u001b[0;34m\u001b[0m\u001b[0m\n\u001b[1;32m      5\u001b[0m     \u001b[0mdetection_results\u001b[0m \u001b[0;34m=\u001b[0m \u001b[0mface_detect\u001b[0m\u001b[0;34m.\u001b[0m\u001b[0mprocess\u001b[0m\u001b[0;34m(\u001b[0m\u001b[0mimage_input\u001b[0m\u001b[0;34m)\u001b[0m\u001b[0;34m\u001b[0m\u001b[0;34m\u001b[0m\u001b[0m\n",
      "\u001b[0;31mAttributeError\u001b[0m: 'NoneType' object has no attribute 'shape'"
     ]
    }
   ],
   "source": [
    "file1=\"Test\\\\test11.jpg\".replace('\\\\' , '/')\n",
    "#file1=\"E:\\\\Pix\\\\Munmun_wedding\\\\DSC_0524.jpg\".replace('\\\\' , '/')\n",
    "\n",
    "enc1=(ret_encoding(file1))\n",
    "dist=[]\n",
    "for i in range(6,14):\n",
    "    #file2=\"E:\\\\Pix\\\\Munmun_wedding\\\\DSC_05\"+str(i)+\".jpg\".replace('\\\\' , '/')\n",
    "    file2=\"Test\\\\test\"+str(i)+\".jpg\".replace('\\\\' , '/')\n",
    "    enc2=(ret_encoding(file2))\n",
    "    if (enc1 is not None) and (enc2 is not None):\n",
    "        print(file2)\n",
    "        enc1=np.array(enc1)\n",
    "        enc2=np.array(enc2)\n",
    "        d=np.linalg.norm(enc1 - enc2, axis=0)\n",
    "        print(d)\n",
    "        dist.append(d)\n",
    "        "
   ]
  },
  {
   "cell_type": "code",
   "execution_count": 21,
   "id": "ee99570e",
   "metadata": {},
   "outputs": [
    {
     "name": "stderr",
     "output_type": "stream",
     "text": [
      "[ WARN:0@308.211] global /Users/runner/work/opencv-python/opencv-python/opencv/modules/imgcodecs/src/loadsave.cpp (239) findDecoder imread_('E:/Pix/Munmun_wedding/DSC_0524.jpg'): can't open/read file: check file path/integrity\n"
     ]
    },
    {
     "ename": "AttributeError",
     "evalue": "'NoneType' object has no attribute 'shape'",
     "output_type": "error",
     "traceback": [
      "\u001b[0;31m---------------------------------------------------------------------------\u001b[0m",
      "\u001b[0;31mAttributeError\u001b[0m                            Traceback (most recent call last)",
      "\u001b[0;32m/var/folders/jf/dgn0j6zj4659c4x2xfqh84xh0000gn/T/ipykernel_48674/1793571429.py\u001b[0m in \u001b[0;36m<module>\u001b[0;34m\u001b[0m\n\u001b[1;32m      1\u001b[0m \u001b[0mfile1\u001b[0m\u001b[0;34m=\u001b[0m\u001b[0;34m\"E:\\\\Pix\\\\Munmun_wedding\\\\DSC_0524.jpg\"\u001b[0m\u001b[0;34m.\u001b[0m\u001b[0mreplace\u001b[0m\u001b[0;34m(\u001b[0m\u001b[0;34m'\\\\'\u001b[0m \u001b[0;34m,\u001b[0m \u001b[0;34m'/'\u001b[0m\u001b[0;34m)\u001b[0m\u001b[0;34m\u001b[0m\u001b[0;34m\u001b[0m\u001b[0m\n\u001b[0;32m----> 2\u001b[0;31m \u001b[0menc1\u001b[0m\u001b[0;34m=\u001b[0m\u001b[0;34m(\u001b[0m\u001b[0mret_encoding\u001b[0m\u001b[0;34m(\u001b[0m\u001b[0mfile1\u001b[0m\u001b[0;34m)\u001b[0m\u001b[0;34m)\u001b[0m\u001b[0;34m\u001b[0m\u001b[0;34m\u001b[0m\u001b[0m\n\u001b[0m\u001b[1;32m      3\u001b[0m \u001b[0mdist\u001b[0m\u001b[0;34m=\u001b[0m\u001b[0;34m[\u001b[0m\u001b[0;34m]\u001b[0m\u001b[0;34m\u001b[0m\u001b[0;34m\u001b[0m\u001b[0m\n\u001b[1;32m      4\u001b[0m \u001b[0;32mfor\u001b[0m \u001b[0mi\u001b[0m \u001b[0;32min\u001b[0m \u001b[0mrange\u001b[0m\u001b[0;34m(\u001b[0m\u001b[0;36m22\u001b[0m\u001b[0;34m,\u001b[0m\u001b[0;36m54\u001b[0m\u001b[0;34m)\u001b[0m\u001b[0;34m:\u001b[0m\u001b[0;34m\u001b[0m\u001b[0;34m\u001b[0m\u001b[0m\n\u001b[1;32m      5\u001b[0m     \u001b[0mfile2\u001b[0m\u001b[0;34m=\u001b[0m\u001b[0;34m\"E:\\\\Pix\\\\Munmun_wedding\\\\DSC_05\"\u001b[0m\u001b[0;34m+\u001b[0m\u001b[0mstr\u001b[0m\u001b[0;34m(\u001b[0m\u001b[0mi\u001b[0m\u001b[0;34m)\u001b[0m\u001b[0;34m+\u001b[0m\u001b[0;34m\".jpg\"\u001b[0m\u001b[0;34m.\u001b[0m\u001b[0mreplace\u001b[0m\u001b[0;34m(\u001b[0m\u001b[0;34m'\\\\'\u001b[0m \u001b[0;34m,\u001b[0m \u001b[0;34m'/'\u001b[0m\u001b[0;34m)\u001b[0m\u001b[0;34m\u001b[0m\u001b[0;34m\u001b[0m\u001b[0m\n",
      "\u001b[0;32m/var/folders/jf/dgn0j6zj4659c4x2xfqh84xh0000gn/T/ipykernel_48674/2176041089.py\u001b[0m in \u001b[0;36mret_encoding\u001b[0;34m(filepath, num_jitters)\u001b[0m\n\u001b[1;32m      1\u001b[0m \u001b[0;32mdef\u001b[0m \u001b[0mret_encoding\u001b[0m\u001b[0;34m(\u001b[0m\u001b[0mfilepath\u001b[0m\u001b[0;34m,\u001b[0m\u001b[0mnum_jitters\u001b[0m\u001b[0;34m=\u001b[0m\u001b[0;36m1\u001b[0m\u001b[0;34m)\u001b[0m\u001b[0;34m:\u001b[0m\u001b[0;34m\u001b[0m\u001b[0;34m\u001b[0m\u001b[0m\n\u001b[1;32m      2\u001b[0m     \u001b[0mface_image\u001b[0m \u001b[0;34m=\u001b[0m \u001b[0mcv2\u001b[0m\u001b[0;34m.\u001b[0m\u001b[0mimread\u001b[0m\u001b[0;34m(\u001b[0m\u001b[0mfilepath\u001b[0m\u001b[0;34m)\u001b[0m\u001b[0;34m\u001b[0m\u001b[0;34m\u001b[0m\u001b[0m\n\u001b[0;32m----> 3\u001b[0;31m     \u001b[0mwidth\u001b[0m\u001b[0;34m,\u001b[0m\u001b[0mheight\u001b[0m\u001b[0;34m=\u001b[0m\u001b[0mface_image\u001b[0m\u001b[0;34m.\u001b[0m\u001b[0mshape\u001b[0m\u001b[0;34m[\u001b[0m\u001b[0;34m:\u001b[0m\u001b[0;34m-\u001b[0m\u001b[0;36m1\u001b[0m\u001b[0;34m]\u001b[0m\u001b[0;34m\u001b[0m\u001b[0;34m\u001b[0m\u001b[0m\n\u001b[0m\u001b[1;32m      4\u001b[0m     \u001b[0mimage_input\u001b[0m \u001b[0;34m=\u001b[0m \u001b[0mcv2\u001b[0m\u001b[0;34m.\u001b[0m\u001b[0mcvtColor\u001b[0m\u001b[0;34m(\u001b[0m\u001b[0mface_image\u001b[0m\u001b[0;34m,\u001b[0m \u001b[0mcv2\u001b[0m\u001b[0;34m.\u001b[0m\u001b[0mCOLOR_BGR2RGB\u001b[0m\u001b[0;34m)\u001b[0m\u001b[0;34m\u001b[0m\u001b[0;34m\u001b[0m\u001b[0m\n\u001b[1;32m      5\u001b[0m     \u001b[0mdetection_results\u001b[0m \u001b[0;34m=\u001b[0m \u001b[0mface_detect\u001b[0m\u001b[0;34m.\u001b[0m\u001b[0mprocess\u001b[0m\u001b[0;34m(\u001b[0m\u001b[0mimage_input\u001b[0m\u001b[0;34m)\u001b[0m\u001b[0;34m\u001b[0m\u001b[0;34m\u001b[0m\u001b[0m\n",
      "\u001b[0;31mAttributeError\u001b[0m: 'NoneType' object has no attribute 'shape'"
     ]
    }
   ],
   "source": [
    "file1=\"E:\\\\Pix\\\\Munmun_wedding\\\\DSC_0524.jpg\".replace('\\\\' , '/')\n",
    "enc1=(ret_encoding(file1))\n",
    "dist=[]\n",
    "for i in range(22,54):\n",
    "    file2=\"E:\\\\Pix\\\\Munmun_wedding\\\\DSC_05\"+str(i)+\".jpg\".replace('\\\\' , '/')\n",
    "    enc2=(ret_encoding(file2))\n",
    "    if (enc1 is not None) and (enc2 is not None):\n",
    "        print(file2)\n",
    "        enc1=np.array(enc1)\n",
    "        enc2=np.array(enc2)\n",
    "        d=np.linalg.norm(enc1 - enc2, axis=0)\n",
    "        print(d)\n",
    "        dist.append(d)\n",
    "        "
   ]
  },
  {
   "cell_type": "code",
   "execution_count": 131,
   "id": "5a9f4e26",
   "metadata": {},
   "outputs": [
    {
     "data": {
      "text/plain": [
       "[0.26394233980185616,\n",
       " 0.33006268519974874,\n",
       " 0.0,\n",
       " 0.4103105560215812,\n",
       " 0.41458072989933475,\n",
       " 0.4652770685378682,\n",
       " 0.4519844876793332,\n",
       " 0.30556772392866643,\n",
       " 0.44270787650444055,\n",
       " 0.3277119208900013,\n",
       " 0.49255133781418725,\n",
       " 0.3257423417556279,\n",
       " 0.2902058595612748,\n",
       " 0.5471849159296998,\n",
       " 0.3642091641638166,\n",
       " 0.5382755533872039,\n",
       " 0.39189821819581516,\n",
       " 0.3484603675189382,\n",
       " 0.39012534906473467]"
      ]
     },
     "execution_count": 131,
     "metadata": {},
     "output_type": "execute_result"
    }
   ],
   "source": [
    "dist"
   ]
  },
  {
   "cell_type": "code",
   "execution_count": 152,
   "id": "3ff4b214",
   "metadata": {},
   "outputs": [
    {
     "name": "stdout",
     "output_type": "stream",
     "text": [
      "E:/Pix/Munmun_wedding/DSC_0525.jpg\n"
     ]
    },
    {
     "data": {
      "text/plain": [
       "[0.4771382735255576]"
      ]
     },
     "execution_count": 152,
     "metadata": {},
     "output_type": "execute_result"
    }
   ],
   "source": [
    "#file1=\"E:\\\\Pix\\\\Munmun_wedding\\\\DSC_0492.jpg\".replace('\\\\' , '/')\n",
    "file1=\"E:\\\\Pix\\\\Munmun_wedding\\\\DSC_0275.jpg\".replace('\\\\' , '/')\n",
    "\n",
    "enc1=(ret_encoding(file1))\n",
    "dist=[]\n",
    "#file2=\"E:\\\\Pix\\\\Munmun_wedding\\\\DSC_0446.jpg\".replace('\\\\' , '/')\n",
    "file2=\"E:\\\\Pix\\\\Munmun_wedding\\\\DSC_0525.jpg\".replace('\\\\' , '/')\n",
    "\n",
    "print(file2)\n",
    "enc2=(ret_encoding(file2))\n",
    "#display(enc2)\n",
    "if (enc1 is not None) and (enc2 is not None):\n",
    "    enc1=np.array(enc1)\n",
    "    enc2=np.array(enc2)\n",
    "    dist.append(np.linalg.norm(enc1 - enc2, axis=0))\n",
    "dist"
   ]
  },
  {
   "cell_type": "code",
   "execution_count": 125,
   "id": "73e662e4",
   "metadata": {},
   "outputs": [
    {
     "data": {
      "text/plain": [
       "[0.5130601053858391]"
      ]
     },
     "execution_count": 125,
     "metadata": {},
     "output_type": "execute_result"
    }
   ],
   "source": [
    "dist"
   ]
  },
  {
   "cell_type": "code",
   "execution_count": 112,
   "id": "64aa680d",
   "metadata": {},
   "outputs": [
    {
     "ename": "ValueError",
     "evalue": "The truth value of an array with more than one element is ambiguous. Use a.any() or a.all()",
     "output_type": "error",
     "traceback": [
      "\u001b[1;31m---------------------------------------------------------------------------\u001b[0m",
      "\u001b[1;31mValueError\u001b[0m                                Traceback (most recent call last)",
      "Cell \u001b[1;32mIn[112], line 2\u001b[0m\n\u001b[0;32m      1\u001b[0m c\u001b[38;5;241m=\u001b[39mb\n\u001b[1;32m----> 2\u001b[0m \u001b[38;5;28;01mif\u001b[39;00m \u001b[38;5;129;01mnot\u001b[39;00m c :\n\u001b[0;32m      3\u001b[0m     \u001b[38;5;28mprint\u001b[39m(\u001b[38;5;124m\"\u001b[39m\u001b[38;5;124mfull\u001b[39m\u001b[38;5;124m\"\u001b[39m)\n\u001b[0;32m      4\u001b[0m \u001b[38;5;28;01melse\u001b[39;00m:\n",
      "\u001b[1;31mValueError\u001b[0m: The truth value of an array with more than one element is ambiguous. Use a.any() or a.all()"
     ]
    }
   ],
   "source": [
    "c=b\n",
    "if not c :\n",
    "    print(\"full\")\n",
    "else:\n",
    "    print(\"empty\")"
   ]
  },
  {
   "cell_type": "code",
   "execution_count": 117,
   "id": "9738dbab",
   "metadata": {},
   "outputs": [
    {
     "data": {
      "text/plain": [
       "dlib.vector([-0.0804747, 0.0910025, 0.0769911, -0.0480331, -0.0944251, -0.0489447, -0.10361, -0.00703891, 0.132111, -0.0513232, 0.235515, 0.0362993, -0.220011, -0.039243, -0.041553, 0.101616, -0.126476, -0.0738419, -0.113043, -0.119332, 0.0343449, -0.0186584, 0.00066364, -0.00170676, -0.131435, -0.259795, -0.0797831, -0.106187, 0.0900066, -0.148663, 0.0150025, 0.0363624, -0.12216, -0.0129467, -0.027539, 0.0263516, -0.000913745, -0.0790531, 0.158763, -0.0156388, -0.133456, -0.0324634, -0.0366673, 0.277406, 0.194996, 0.0377514, 0.0654894, -0.0647332, 0.0343912, -0.270923, 0.0368137, 0.153475, 0.020433, 0.0679717, 0.0878614, -0.178231, 0.0258942, 0.0877184, -0.129055, 0.0236241, 0.00916781, -0.0573456, -0.0709152, -0.133017, 0.253069, 0.128938, -0.100669, -0.12534, 0.194731, -0.132965, -0.0291884, 0.073089, -0.121139, -0.135718, -0.217702, 0.0596202, 0.375289, 0.1815, -0.16883, 0.049299, -0.121696, -0.0388345, 0.0173798, 0.0133728, -0.0983486, -0.00393279, -0.0624877, 0.0656582, 0.193343, -0.071464, 0.0355673, 0.161905, 0.0123381, -0.0123763, 0.000459612, -0.0201759, -0.0807959, 0.0265099, -0.0734202, 0.00657274, 0.113364, -0.120183, 0.0323462, 0.0964039, -0.164641, 0.120367, 0.0148441, -0.0423308, 0.0230528, 0.0242639, -0.0750174, -0.0449979, 0.229394, -0.223639, 0.238585, 0.223632, 0.0867366, 0.118225, 0.0626638, 0.11989, -0.0274933, -0.0258098, -0.126783, -0.0304034, -0.00705147, -0.0620062, -0.0303285, 0.0359303])"
      ]
     },
     "execution_count": 117,
     "metadata": {},
     "output_type": "execute_result"
    }
   ],
   "source": [
    "enc1"
   ]
  }
 ],
 "metadata": {
  "kernelspec": {
   "display_name": "Python [conda env:Env37]",
   "language": "python",
   "name": "conda-env-Env37-py"
  },
  "language_info": {
   "codemirror_mode": {
    "name": "ipython",
    "version": 3
   },
   "file_extension": ".py",
   "mimetype": "text/x-python",
   "name": "python",
   "nbconvert_exporter": "python",
   "pygments_lexer": "ipython3",
   "version": "3.7.12"
  }
 },
 "nbformat": 4,
 "nbformat_minor": 5
}
